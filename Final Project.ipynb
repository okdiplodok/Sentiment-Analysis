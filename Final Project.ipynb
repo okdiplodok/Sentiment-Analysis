{
 "cells": [
  {
   "cell_type": "markdown",
   "metadata": {},
   "source": [
    "# Assesing sentiment of tweets with Machine Learning models"
   ]
  },
  {
   "cell_type": "markdown",
   "metadata": {},
   "source": [
    "This Jupyter notebook is a part of the final project for the course ***\"Experimentation in Psychology and Linguistics\"*** (AI Master's program at Utrecht University). <br>\n",
    "The code consists of two logical parts:\n",
    " - Sentiment analysis with Deep Learning; <br>\n",
    " - Sentiment analysis with supervised machine learning:<br>\n",
    "     -  Support Vector Machines classifier (SVM);<br>\n",
    "     -  Naive Bayes classifier (NB)."
   ]
  },
  {
   "cell_type": "markdown",
   "metadata": {},
   "source": [
    "## Sentiment analysis with Deep Learning"
   ]
  },
  {
   "cell_type": "markdown",
   "metadata": {},
   "source": [
    "### Unsupervised Sentiment Neuron "
   ]
  },
  {
   "cell_type": "markdown",
   "metadata": {},
   "source": [
    "**Prerequisites**:\n",
    " - Install __[tensorflow](https://www.tensorflow.org/install/)__;<br>\n",
    " - Follow the instructions on __[this website](https://modeldepot.io/afowler/sentiment-neuron/overview)__ to get Sentiment Neuron running."
   ]
  },
  {
   "cell_type": "code",
   "execution_count": 2,
   "metadata": {},
   "outputs": [
    {
     "name": "stdout",
     "output_type": "stream",
     "text": [
      "WARNING:tensorflow:From /Users/ok_diplodok/Documents/Experimentation/generating-reviews-discovering-sentiment/encoder.py:59: calling l2_normalize (from tensorflow.python.ops.nn_impl) with dim is deprecated and will be removed in a future version.\n",
      "Instructions for updating:\n",
      "dim is deprecated, use axis instead\n"
     ]
    }
   ],
   "source": [
    "from encoder import Model\n",
    "\n",
    "model = Model()"
   ]
  },
  {
   "cell_type": "code",
   "execution_count": 3,
   "metadata": {},
   "outputs": [
    {
     "name": "stdout",
     "output_type": "stream",
     "text": [
      "35.011 seconds to transform 30 examples\n"
     ]
    }
   ],
   "source": [
    "text = [\n",
    "    \"Let's drive carefully out there folks. Untreated roads look wet but it's more likely to be black ice.\",\n",
    "    \"this issue is primarily about Japanese-owned plants located in UK to serve EU mkt - higher costs & they relocate.\",\n",
    "    \"So today I bought liability insurance, registered as self-employed for my #BODYCOMBAT teaching\",\n",
    "    \"Panel debate on sustainable solutions: diversity at work - wrapping up now\",\n",
    "    \"Took a photo to be mounted yesterday going to submit it in a competition.\",\n",
    "    \"I'm making a bot that generates art critiques. Preliminary tests prove it could maybe be more constructive with its criticism\",\n",
    "    \"I spoke with bristol wastecompany recently about food waste, compost and personal responsibility\",\n",
    "    \"First attempt at computer controlled astrophotography...target Messier 42, The Orion Nebula\",\n",
    "    \"Lack of awareness of alternative finance options among SMEs is creating a potential economic hole of up to £20bn\",\n",
    "    \"Bristol: Dry and bright with sunshine but also patchy cloud. Max 12°C Wind W 12mph Chance of precip: 30% Min 7°C\",\n",
    "    \"Today sucks. I’m cramping hard and it’s the anniversary of two of my friends’ deaths. Someone please send me cat memes whilst I play Overwatch and cry.\",\n",
    "    \"Theresa May is a horrible xenophobe and apparently is as ill-informed about technology as she is about immigration.\",\n",
    "    \"Its been a terrible week one way or another. May be time just to hibernate away for weekend (or next five years)\",\n",
    "    \"this school is disgusting; no kids should be taught to use guns. #ofsted you should be ashamed\",\n",
    "    \"i accidentally scared a chihuahua by walking past it when i was walking home from work i genuinely feel quite bad\",\n",
    "    \"Watching saints and scroungers on bbc1,makes me feel quite angry x\",\n",
    "    \"I get so mad when I read stories about dogs being mistreated, who the fuck could be so cruel and abuse a dog though\",\n",
    "    \"Wish I was still playing beer pong in the sun! Why is the British weather so terrible\",\n",
    "    \"Conditions are not good out here #Bristol stay at home... we're still getting out but the roads are not good\",\n",
    "    \"I don’t like people who sugar coat things. Say it how it is, or don’t say anything at all. Move away with that pussy ass energy.\",\n",
    "    \"Nice little snow walk at 8:30 this morning in Peasedown St John #snowday\", \n",
    "    \"Finishing off a good day with a good drink!\", \n",
    "    \"I have a brilliant time conducting. You guys sounded awesome!\", \n",
    "    \"I spotted your photo.... fantastic performance as always....\", \n",
    "    \"Everyone was placed together on one table so it was quite nice x\",\n",
    "    \"Arrested Development is actually quite good ayeeeee\",\n",
    "    \"The snacks look very good! We can’t wait to tuck in!\", \n",
    "    \"Beech House is a very nice place to wake up\", \n",
    "    \"Rain isn’t that bad really! Beautiful reflections this morning here on Clifton Down. Happy Friday everyone!!\",\n",
    "    \"Free drink at work- don't mind if I do\"\n",
    "]\n",
    "text_features = model.transform(text)"
   ]
  },
  {
   "cell_type": "code",
   "execution_count": 4,
   "metadata": {},
   "outputs": [],
   "source": [
    "sentiment = text_features[:, 2388]"
   ]
  },
  {
   "cell_type": "code",
   "execution_count": 5,
   "metadata": {},
   "outputs": [
    {
     "name": "stdout",
     "output_type": "stream",
     "text": [
      "[ 0.04744026  0.0078662   0.06980219  0.2494086   0.29725575  0.09991431\n",
      "  0.09274442 -0.17559259 -0.44692132 -0.29621384 -0.44683516 -0.8134257\n",
      " -0.32313085 -0.9261291   0.3238348  -0.04630921  0.03936043  0.11352461\n",
      " -0.36774233 -0.04788016  0.4327004   0.39940885  0.59393674  0.80192786\n",
      "  0.40785465  0.33747396  0.75758815  0.6429882   0.44589835  0.02759602]\n"
     ]
    }
   ],
   "source": [
    "print(text_features[:, 2388])"
   ]
  },
  {
   "cell_type": "markdown",
   "metadata": {},
   "source": [
    "To make the result more representitive, let's output it in a table format."
   ]
  },
  {
   "cell_type": "code",
   "execution_count": 4,
   "metadata": {},
   "outputs": [],
   "source": [
    "import pandas as pd"
   ]
  },
  {
   "cell_type": "code",
   "execution_count": 7,
   "metadata": {},
   "outputs": [],
   "source": [
    "x = pd.DataFrame({'tweets': text,\n",
    "                  'sentiment': sentiment})\n",
    "pd.options.display.max_colwidth = 200"
   ]
  },
  {
   "cell_type": "code",
   "execution_count": 8,
   "metadata": {},
   "outputs": [
    {
     "data": {
      "text/html": [
       "<div>\n",
       "<style scoped>\n",
       "    .dataframe tbody tr th:only-of-type {\n",
       "        vertical-align: middle;\n",
       "    }\n",
       "\n",
       "    .dataframe tbody tr th {\n",
       "        vertical-align: top;\n",
       "    }\n",
       "\n",
       "    .dataframe thead th {\n",
       "        text-align: right;\n",
       "    }\n",
       "</style>\n",
       "<table border=\"1\" class=\"dataframe\">\n",
       "  <thead>\n",
       "    <tr style=\"text-align: right;\">\n",
       "      <th></th>\n",
       "      <th>sentiment</th>\n",
       "      <th>tweets</th>\n",
       "    </tr>\n",
       "  </thead>\n",
       "  <tbody>\n",
       "    <tr>\n",
       "      <th>0</th>\n",
       "      <td>0.047440</td>\n",
       "      <td>Let's drive carefully out there folks. Untreated roads look wet but it's more likely to be black ice.</td>\n",
       "    </tr>\n",
       "    <tr>\n",
       "      <th>1</th>\n",
       "      <td>0.007866</td>\n",
       "      <td>this issue is primarily about Japanese-owned plants located in UK to serve EU mkt - higher costs &amp; they relocate.</td>\n",
       "    </tr>\n",
       "    <tr>\n",
       "      <th>2</th>\n",
       "      <td>0.069802</td>\n",
       "      <td>So today I bought liability insurance, registered as self-employed for my #BODYCOMBAT teaching</td>\n",
       "    </tr>\n",
       "    <tr>\n",
       "      <th>3</th>\n",
       "      <td>0.249409</td>\n",
       "      <td>Panel debate on sustainable solutions: diversity at work - wrapping up now</td>\n",
       "    </tr>\n",
       "    <tr>\n",
       "      <th>4</th>\n",
       "      <td>0.297256</td>\n",
       "      <td>Took a photo to be mounted yesterday going to submit it in a competition.</td>\n",
       "    </tr>\n",
       "    <tr>\n",
       "      <th>5</th>\n",
       "      <td>0.099914</td>\n",
       "      <td>I'm making a bot that generates art critiques. Preliminary tests prove it could maybe be more constructive with its criticism</td>\n",
       "    </tr>\n",
       "    <tr>\n",
       "      <th>6</th>\n",
       "      <td>0.092744</td>\n",
       "      <td>I spoke with bristol wastecompany recently about food waste, compost and personal responsibility</td>\n",
       "    </tr>\n",
       "    <tr>\n",
       "      <th>7</th>\n",
       "      <td>-0.175593</td>\n",
       "      <td>First attempt at computer controlled astrophotography...target Messier 42, The Orion Nebula</td>\n",
       "    </tr>\n",
       "    <tr>\n",
       "      <th>8</th>\n",
       "      <td>-0.446921</td>\n",
       "      <td>Lack of awareness of alternative finance options among SMEs is creating a potential economic hole of up to £20bn</td>\n",
       "    </tr>\n",
       "    <tr>\n",
       "      <th>9</th>\n",
       "      <td>-0.296214</td>\n",
       "      <td>Bristol: Dry and bright with sunshine but also patchy cloud. Max 12°C Wind W 12mph Chance of precip: 30% Min 7°C</td>\n",
       "    </tr>\n",
       "    <tr>\n",
       "      <th>10</th>\n",
       "      <td>-0.446835</td>\n",
       "      <td>Today sucks. I’m cramping hard and it’s the anniversary of two of my friends’ deaths. Someone please send me cat memes whilst I play Overwatch and cry.</td>\n",
       "    </tr>\n",
       "    <tr>\n",
       "      <th>11</th>\n",
       "      <td>-0.813426</td>\n",
       "      <td>Theresa May is a horrible xenophobe and apparently is as ill-informed about technology as she is about immigration.</td>\n",
       "    </tr>\n",
       "    <tr>\n",
       "      <th>12</th>\n",
       "      <td>-0.323131</td>\n",
       "      <td>Its been a terrible week one way or another. May be time just to hibernate away for weekend (or next five years)</td>\n",
       "    </tr>\n",
       "    <tr>\n",
       "      <th>13</th>\n",
       "      <td>-0.926129</td>\n",
       "      <td>this school is disgusting; no kids should be taught to use guns. #ofsted you should be ashamed</td>\n",
       "    </tr>\n",
       "    <tr>\n",
       "      <th>14</th>\n",
       "      <td>0.323835</td>\n",
       "      <td>i accidentally scared a chihuahua by walking past it when i was walking home from work i genuinely feel quite bad</td>\n",
       "    </tr>\n",
       "    <tr>\n",
       "      <th>15</th>\n",
       "      <td>-0.046309</td>\n",
       "      <td>Watching saints and scroungers on bbc1,makes me feel quite angry x</td>\n",
       "    </tr>\n",
       "    <tr>\n",
       "      <th>16</th>\n",
       "      <td>0.039360</td>\n",
       "      <td>I get so mad when I read stories about dogs being mistreated, who the fuck could be so cruel and abuse a dog though</td>\n",
       "    </tr>\n",
       "    <tr>\n",
       "      <th>17</th>\n",
       "      <td>0.113525</td>\n",
       "      <td>Wish I was still playing beer pong in the sun! Why is the British weather so terrible</td>\n",
       "    </tr>\n",
       "    <tr>\n",
       "      <th>18</th>\n",
       "      <td>-0.367742</td>\n",
       "      <td>Conditions are not good out here #Bristol stay at home... we're still getting out but the roads are not good</td>\n",
       "    </tr>\n",
       "    <tr>\n",
       "      <th>19</th>\n",
       "      <td>-0.047880</td>\n",
       "      <td>I don’t like people who sugar coat things. Say it how it is, or don’t say anything at all. Move away with that pussy ass energy.</td>\n",
       "    </tr>\n",
       "    <tr>\n",
       "      <th>20</th>\n",
       "      <td>0.432700</td>\n",
       "      <td>Nice little snow walk at 8:30 this morning in Peasedown St John #snowday</td>\n",
       "    </tr>\n",
       "    <tr>\n",
       "      <th>21</th>\n",
       "      <td>0.399409</td>\n",
       "      <td>Finishing off a good day with a good drink!</td>\n",
       "    </tr>\n",
       "    <tr>\n",
       "      <th>22</th>\n",
       "      <td>0.593937</td>\n",
       "      <td>I have a brilliant time conducting. You guys sounded awesome!</td>\n",
       "    </tr>\n",
       "    <tr>\n",
       "      <th>23</th>\n",
       "      <td>0.801928</td>\n",
       "      <td>I spotted your photo.... fantastic performance as always....</td>\n",
       "    </tr>\n",
       "    <tr>\n",
       "      <th>24</th>\n",
       "      <td>0.407855</td>\n",
       "      <td>Everyone was placed together on one table so it was quite nice x</td>\n",
       "    </tr>\n",
       "    <tr>\n",
       "      <th>25</th>\n",
       "      <td>0.337474</td>\n",
       "      <td>Arrested Development is actually quite good ayeeeee</td>\n",
       "    </tr>\n",
       "    <tr>\n",
       "      <th>26</th>\n",
       "      <td>0.757588</td>\n",
       "      <td>The snacks look very good! We can’t wait to tuck in!</td>\n",
       "    </tr>\n",
       "    <tr>\n",
       "      <th>27</th>\n",
       "      <td>0.642988</td>\n",
       "      <td>Beech House is a very nice place to wake up</td>\n",
       "    </tr>\n",
       "    <tr>\n",
       "      <th>28</th>\n",
       "      <td>0.445898</td>\n",
       "      <td>Rain isn’t that bad really! Beautiful reflections this morning here on Clifton Down. Happy Friday everyone!!</td>\n",
       "    </tr>\n",
       "    <tr>\n",
       "      <th>29</th>\n",
       "      <td>0.027596</td>\n",
       "      <td>Free drink at work- don't mind if I do</td>\n",
       "    </tr>\n",
       "  </tbody>\n",
       "</table>\n",
       "</div>"
      ],
      "text/plain": [
       "    sentiment  \\\n",
       "0    0.047440   \n",
       "1    0.007866   \n",
       "2    0.069802   \n",
       "3    0.249409   \n",
       "4    0.297256   \n",
       "5    0.099914   \n",
       "6    0.092744   \n",
       "7   -0.175593   \n",
       "8   -0.446921   \n",
       "9   -0.296214   \n",
       "10  -0.446835   \n",
       "11  -0.813426   \n",
       "12  -0.323131   \n",
       "13  -0.926129   \n",
       "14   0.323835   \n",
       "15  -0.046309   \n",
       "16   0.039360   \n",
       "17   0.113525   \n",
       "18  -0.367742   \n",
       "19  -0.047880   \n",
       "20   0.432700   \n",
       "21   0.399409   \n",
       "22   0.593937   \n",
       "23   0.801928   \n",
       "24   0.407855   \n",
       "25   0.337474   \n",
       "26   0.757588   \n",
       "27   0.642988   \n",
       "28   0.445898   \n",
       "29   0.027596   \n",
       "\n",
       "                                                                                                                                                     tweets  \n",
       "0                                                     Let's drive carefully out there folks. Untreated roads look wet but it's more likely to be black ice.  \n",
       "1                                         this issue is primarily about Japanese-owned plants located in UK to serve EU mkt - higher costs & they relocate.  \n",
       "2                                                            So today I bought liability insurance, registered as self-employed for my #BODYCOMBAT teaching  \n",
       "3                                                                                Panel debate on sustainable solutions: diversity at work - wrapping up now  \n",
       "4                                                                                 Took a photo to be mounted yesterday going to submit it in a competition.  \n",
       "5                             I'm making a bot that generates art critiques. Preliminary tests prove it could maybe be more constructive with its criticism  \n",
       "6                                                          I spoke with bristol wastecompany recently about food waste, compost and personal responsibility  \n",
       "7                                                               First attempt at computer controlled astrophotography...target Messier 42, The Orion Nebula  \n",
       "8                                          Lack of awareness of alternative finance options among SMEs is creating a potential economic hole of up to £20bn  \n",
       "9                                          Bristol: Dry and bright with sunshine but also patchy cloud. Max 12°C Wind W 12mph Chance of precip: 30% Min 7°C  \n",
       "10  Today sucks. I’m cramping hard and it’s the anniversary of two of my friends’ deaths. Someone please send me cat memes whilst I play Overwatch and cry.  \n",
       "11                                      Theresa May is a horrible xenophobe and apparently is as ill-informed about technology as she is about immigration.  \n",
       "12                                         Its been a terrible week one way or another. May be time just to hibernate away for weekend (or next five years)  \n",
       "13                                                           this school is disgusting; no kids should be taught to use guns. #ofsted you should be ashamed  \n",
       "14                                        i accidentally scared a chihuahua by walking past it when i was walking home from work i genuinely feel quite bad  \n",
       "15                                                                                       Watching saints and scroungers on bbc1,makes me feel quite angry x  \n",
       "16                                      I get so mad when I read stories about dogs being mistreated, who the fuck could be so cruel and abuse a dog though  \n",
       "17                                                                    Wish I was still playing beer pong in the sun! Why is the British weather so terrible  \n",
       "18                                             Conditions are not good out here #Bristol stay at home... we're still getting out but the roads are not good  \n",
       "19                         I don’t like people who sugar coat things. Say it how it is, or don’t say anything at all. Move away with that pussy ass energy.  \n",
       "20                                                                                 Nice little snow walk at 8:30 this morning in Peasedown St John #snowday  \n",
       "21                                                                                                              Finishing off a good day with a good drink!  \n",
       "22                                                                                            I have a brilliant time conducting. You guys sounded awesome!  \n",
       "23                                                                                             I spotted your photo.... fantastic performance as always....  \n",
       "24                                                                                         Everyone was placed together on one table so it was quite nice x  \n",
       "25                                                                                                      Arrested Development is actually quite good ayeeeee  \n",
       "26                                                                                                     The snacks look very good! We can’t wait to tuck in!  \n",
       "27                                                                                                              Beech House is a very nice place to wake up  \n",
       "28                                             Rain isn’t that bad really! Beautiful reflections this morning here on Clifton Down. Happy Friday everyone!!  \n",
       "29                                                                                                                   Free drink at work- don't mind if I do  "
      ]
     },
     "execution_count": 8,
     "metadata": {},
     "output_type": "execute_result"
    }
   ],
   "source": [
    "x"
   ]
  },
  {
   "cell_type": "markdown",
   "metadata": {},
   "source": [
    "Tweets that we describe as having a positive sentiment (lines 20-29) are more distinctly classified by the Neuron. All of these tweets are situated on the right part of [-1, 1] scale. However, there are both +/- signs in classification of neutral tweets. This is logical because the absolutely neutral (0.0) tweets which do not bare any slightest sentiment are extremely unlikely. There are some illogical misclassifications though. For example, the tweet on line 16 bares a lot of indicators of extremely negative tweet, such as negative opinion adjectives and intensifiers. "
   ]
  },
  {
   "cell_type": "markdown",
   "metadata": {},
   "source": [
    "## Sentiment analysis with supervised machine learning"
   ]
  },
  {
   "cell_type": "markdown",
   "metadata": {},
   "source": [
    "### Getting and preprocessing the data for training"
   ]
  },
  {
   "cell_type": "markdown",
   "metadata": {},
   "source": [
    "We are using two different dataframes for training classifiers. The dataframes are taken from Kaggle competitions. They consist of tweets which are trinary labeled with *positive, neutral, or negative* tags. In the following paragraph there is a description of our data sources. \n",
    " - __[Twitter US Airline Sentiment](https://www.kaggle.com/crowdflower/twitter-airline-sentiment)__. In this dataframe there are tweets that reflect travellers feelings (February 2015) for six different American airlines. The data sentiment was manually annotated. For more information follow the link above.<br>\n",
    " - __[twitter_sentiment](https://www.kaggle.com/rabinandan/twitter-sentiment)__. The dataframe was collected and preprocessed by machine learning enthusiasts. Unfortunately, I did not manage to find out *how* this dataset was collected."
   ]
  },
  {
   "cell_type": "code",
   "execution_count": 5,
   "metadata": {},
   "outputs": [],
   "source": [
    "import matplotlib.pyplot as plt\n",
    "from sklearn.ensemble import RandomForestClassifier\n",
    "from sklearn.model_selection import train_test_split, KFold, cross_val_score, GridSearchCV, cross_val_predict\n",
    "from sklearn.metrics import classification_report, f1_score, recall_score, precision_score\n",
    "import seaborn as sns\n",
    "import numpy as np\n",
    "from sklearn.feature_extraction.text import CountVectorizer, TfidfVectorizer\n",
    "from sklearn.naive_bayes import MultinomialNB\n",
    "from sklearn.svm import LinearSVC\n",
    "import html\n",
    "from sklearn.pipeline import Pipeline\n",
    "from sklearn.metrics import confusion_matrix\n",
    "\n",
    "%matplotlib inline"
   ]
  },
  {
   "cell_type": "code",
   "execution_count": 12,
   "metadata": {},
   "outputs": [],
   "source": [
    "airline_tweets = pd.read_csv(\"Tweets.csv\", sep=',', header=0)"
   ]
  },
  {
   "cell_type": "code",
   "execution_count": 13,
   "metadata": {},
   "outputs": [
    {
     "data": {
      "text/html": [
       "<div>\n",
       "<style scoped>\n",
       "    .dataframe tbody tr th:only-of-type {\n",
       "        vertical-align: middle;\n",
       "    }\n",
       "\n",
       "    .dataframe tbody tr th {\n",
       "        vertical-align: top;\n",
       "    }\n",
       "\n",
       "    .dataframe thead th {\n",
       "        text-align: right;\n",
       "    }\n",
       "</style>\n",
       "<table border=\"1\" class=\"dataframe\">\n",
       "  <thead>\n",
       "    <tr style=\"text-align: right;\">\n",
       "      <th></th>\n",
       "      <th>text</th>\n",
       "      <th>airline_sentiment</th>\n",
       "    </tr>\n",
       "  </thead>\n",
       "  <tbody>\n",
       "    <tr>\n",
       "      <th>0</th>\n",
       "      <td>@VirginAmerica What @dhepburn said.</td>\n",
       "      <td>neutral</td>\n",
       "    </tr>\n",
       "    <tr>\n",
       "      <th>1</th>\n",
       "      <td>@VirginAmerica plus you've added commercials to the experience... tacky.</td>\n",
       "      <td>positive</td>\n",
       "    </tr>\n",
       "    <tr>\n",
       "      <th>2</th>\n",
       "      <td>@VirginAmerica I didn't today... Must mean I need to take another trip!</td>\n",
       "      <td>neutral</td>\n",
       "    </tr>\n",
       "    <tr>\n",
       "      <th>3</th>\n",
       "      <td>@VirginAmerica it's really aggressive to blast obnoxious \"entertainment\" in your guests' faces &amp;amp; they have little recourse</td>\n",
       "      <td>negative</td>\n",
       "    </tr>\n",
       "    <tr>\n",
       "      <th>4</th>\n",
       "      <td>@VirginAmerica and it's a really big bad thing about it</td>\n",
       "      <td>negative</td>\n",
       "    </tr>\n",
       "  </tbody>\n",
       "</table>\n",
       "</div>"
      ],
      "text/plain": [
       "                                                                                                                             text  \\\n",
       "0                                                                                             @VirginAmerica What @dhepburn said.   \n",
       "1                                                        @VirginAmerica plus you've added commercials to the experience... tacky.   \n",
       "2                                                         @VirginAmerica I didn't today... Must mean I need to take another trip!   \n",
       "3  @VirginAmerica it's really aggressive to blast obnoxious \"entertainment\" in your guests' faces &amp; they have little recourse   \n",
       "4                                                                         @VirginAmerica and it's a really big bad thing about it   \n",
       "\n",
       "  airline_sentiment  \n",
       "0           neutral  \n",
       "1          positive  \n",
       "2           neutral  \n",
       "3          negative  \n",
       "4          negative  "
      ]
     },
     "execution_count": 13,
     "metadata": {},
     "output_type": "execute_result"
    }
   ],
   "source": [
    "airline_tweets = airline_tweets[[\"text\", \"airline_sentiment\"]]\n",
    "pd.options.display.max_colwidth = 200\n",
    "airline_tweets.head()"
   ]
  },
  {
   "cell_type": "markdown",
   "metadata": {},
   "source": [
    "Let's check if the sentiment label distribution is balances."
   ]
  },
  {
   "cell_type": "code",
   "execution_count": 34,
   "metadata": {},
   "outputs": [
    {
     "data": {
      "image/png": "[encoded data removed]",
      "text/plain": [
       "<matplotlib.figure.Figure at 0x144046f98>"
      ]
     },
     "metadata": {},
     "output_type": "display_data"
    }
   ],
   "source": [
    "sns.countplot(x=\"airline_sentiment\", data=airline_tweets);"
   ]
  },
  {
   "cell_type": "code",
   "execution_count": 36,
   "metadata": {},
   "outputs": [
    {
     "data": {
      "text/html": [
       "<div>\n",
       "<style scoped>\n",
       "    .dataframe tbody tr th:only-of-type {\n",
       "        vertical-align: middle;\n",
       "    }\n",
       "\n",
       "    .dataframe tbody tr th {\n",
       "        vertical-align: top;\n",
       "    }\n",
       "\n",
       "    .dataframe thead th {\n",
       "        text-align: right;\n",
       "    }\n",
       "</style>\n",
       "<table border=\"1\" class=\"dataframe\">\n",
       "  <thead>\n",
       "    <tr style=\"text-align: right;\">\n",
       "      <th></th>\n",
       "      <th>text</th>\n",
       "    </tr>\n",
       "    <tr>\n",
       "      <th>airline_sentiment</th>\n",
       "      <th></th>\n",
       "    </tr>\n",
       "  </thead>\n",
       "  <tbody>\n",
       "    <tr>\n",
       "      <th>negative</th>\n",
       "      <td>9178</td>\n",
       "    </tr>\n",
       "    <tr>\n",
       "      <th>neutral</th>\n",
       "      <td>3099</td>\n",
       "    </tr>\n",
       "    <tr>\n",
       "      <th>positive</th>\n",
       "      <td>2363</td>\n",
       "    </tr>\n",
       "  </tbody>\n",
       "</table>\n",
       "</div>"
      ],
      "text/plain": [
       "                   text\n",
       "airline_sentiment      \n",
       "negative           9178\n",
       "neutral            3099\n",
       "positive           2363"
      ]
     },
     "execution_count": 36,
     "metadata": {},
     "output_type": "execute_result"
    }
   ],
   "source": [
    "new_table = airline_tweets.pivot_table(index=\"airline_sentiment\", values=['text'], aggfunc='count')\n",
    "new_table.sort_values(by=['text'], ascending=False)"
   ]
  },
  {
   "cell_type": "markdown",
   "metadata": {},
   "source": [
    "As far as you can see from the table above, the number of negative sentiment tweets are three times higher than the other two groups have."
   ]
  },
  {
   "cell_type": "code",
   "execution_count": 14,
   "metadata": {},
   "outputs": [
    {
     "data": {
      "text/html": [
       "<div>\n",
       "<style scoped>\n",
       "    .dataframe tbody tr th:only-of-type {\n",
       "        vertical-align: middle;\n",
       "    }\n",
       "\n",
       "    .dataframe tbody tr th {\n",
       "        vertical-align: top;\n",
       "    }\n",
       "\n",
       "    .dataframe thead th {\n",
       "        text-align: right;\n",
       "    }\n",
       "</style>\n",
       "<table border=\"1\" class=\"dataframe\">\n",
       "  <thead>\n",
       "    <tr style=\"text-align: right;\">\n",
       "      <th></th>\n",
       "      <th>id</th>\n",
       "      <th>tweet</th>\n",
       "      <th>label</th>\n",
       "    </tr>\n",
       "  </thead>\n",
       "  <tbody>\n",
       "    <tr>\n",
       "      <th>0</th>\n",
       "      <td>264183816548130816</td>\n",
       "      <td>Gas by my house hit $3.39!!!! I'm going to Chapel Hill on Sat. :)</td>\n",
       "      <td>1</td>\n",
       "    </tr>\n",
       "    <tr>\n",
       "      <th>1</th>\n",
       "      <td>264249301910310912</td>\n",
       "      <td>Iranian general says Israel's Iron Dome can't deal with their missiles (keep talking like that and we may end up finding out)</td>\n",
       "      <td>-1</td>\n",
       "    </tr>\n",
       "    <tr>\n",
       "      <th>2</th>\n",
       "      <td>264105751826538497</td>\n",
       "      <td>with J Davlar 11th. Main rivals are team Poland. Hopefully we an make it a successful end to a tough week of training tomorrow.</td>\n",
       "      <td>1</td>\n",
       "    </tr>\n",
       "    <tr>\n",
       "      <th>3</th>\n",
       "      <td>264094586689953794</td>\n",
       "      <td>Talking about ACT's &amp;&amp; SAT's, deciding where I want to go to college, applying to colleges and everything about college stresses me out.</td>\n",
       "      <td>-1</td>\n",
       "    </tr>\n",
       "    <tr>\n",
       "      <th>4</th>\n",
       "      <td>254941790757601280</td>\n",
       "      <td>They may have a SuperBowl in Dallas, but Dallas ain't winning a SuperBowl. Not with that quarterback and owner. @S4NYC @RasmussenPoll</td>\n",
       "      <td>-1</td>\n",
       "    </tr>\n",
       "  </tbody>\n",
       "</table>\n",
       "</div>"
      ],
      "text/plain": [
       "                   id  \\\n",
       "0  264183816548130816   \n",
       "1  264249301910310912   \n",
       "2  264105751826538497   \n",
       "3  264094586689953794   \n",
       "4  254941790757601280   \n",
       "\n",
       "                                                                                                                                      tweet  \\\n",
       "0                                                                         Gas by my house hit $3.39!!!! I'm going to Chapel Hill on Sat. :)   \n",
       "1             Iranian general says Israel's Iron Dome can't deal with their missiles (keep talking like that and we may end up finding out)   \n",
       "2           with J Davlar 11th. Main rivals are team Poland. Hopefully we an make it a successful end to a tough week of training tomorrow.   \n",
       "3  Talking about ACT's && SAT's, deciding where I want to go to college, applying to colleges and everything about college stresses me out.   \n",
       "4     They may have a SuperBowl in Dallas, but Dallas ain't winning a SuperBowl. Not with that quarterback and owner. @S4NYC @RasmussenPoll   \n",
       "\n",
       "   label  \n",
       "0      1  \n",
       "1     -1  \n",
       "2      1  \n",
       "3     -1  \n",
       "4     -1  "
      ]
     },
     "execution_count": 14,
     "metadata": {},
     "output_type": "execute_result"
    }
   ],
   "source": [
    "ent_tweets = pd.read_csv(\"train.tsv\", sep='\\t', header=0)\n",
    "ent_tweets.head()"
   ]
  },
  {
   "cell_type": "code",
   "execution_count": 15,
   "metadata": {},
   "outputs": [
    {
     "data": {
      "text/html": [
       "<div>\n",
       "<style scoped>\n",
       "    .dataframe tbody tr th:only-of-type {\n",
       "        vertical-align: middle;\n",
       "    }\n",
       "\n",
       "    .dataframe tbody tr th {\n",
       "        vertical-align: top;\n",
       "    }\n",
       "\n",
       "    .dataframe thead th {\n",
       "        text-align: right;\n",
       "    }\n",
       "</style>\n",
       "<table border=\"1\" class=\"dataframe\">\n",
       "  <thead>\n",
       "    <tr style=\"text-align: right;\">\n",
       "      <th></th>\n",
       "      <th>tweet</th>\n",
       "      <th>label</th>\n",
       "    </tr>\n",
       "  </thead>\n",
       "  <tbody>\n",
       "    <tr>\n",
       "      <th>0</th>\n",
       "      <td>Gas by my house hit $3.39!!!! I'm going to Chapel Hill on Sat. :)</td>\n",
       "      <td>positive</td>\n",
       "    </tr>\n",
       "    <tr>\n",
       "      <th>1</th>\n",
       "      <td>Iranian general says Israel's Iron Dome can't deal with their missiles (keep talking like that and we may end up finding out)</td>\n",
       "      <td>negative</td>\n",
       "    </tr>\n",
       "    <tr>\n",
       "      <th>2</th>\n",
       "      <td>with J Davlar 11th. Main rivals are team Poland. Hopefully we an make it a successful end to a tough week of training tomorrow.</td>\n",
       "      <td>positive</td>\n",
       "    </tr>\n",
       "    <tr>\n",
       "      <th>3</th>\n",
       "      <td>Talking about ACT's &amp;&amp; SAT's, deciding where I want to go to college, applying to colleges and everything about college stresses me out.</td>\n",
       "      <td>negative</td>\n",
       "    </tr>\n",
       "    <tr>\n",
       "      <th>4</th>\n",
       "      <td>They may have a SuperBowl in Dallas, but Dallas ain't winning a SuperBowl. Not with that quarterback and owner. @S4NYC @RasmussenPoll</td>\n",
       "      <td>negative</td>\n",
       "    </tr>\n",
       "  </tbody>\n",
       "</table>\n",
       "</div>"
      ],
      "text/plain": [
       "                                                                                                                                      tweet  \\\n",
       "0                                                                         Gas by my house hit $3.39!!!! I'm going to Chapel Hill on Sat. :)   \n",
       "1             Iranian general says Israel's Iron Dome can't deal with their missiles (keep talking like that and we may end up finding out)   \n",
       "2           with J Davlar 11th. Main rivals are team Poland. Hopefully we an make it a successful end to a tough week of training tomorrow.   \n",
       "3  Talking about ACT's && SAT's, deciding where I want to go to college, applying to colleges and everything about college stresses me out.   \n",
       "4     They may have a SuperBowl in Dallas, but Dallas ain't winning a SuperBowl. Not with that quarterback and owner. @S4NYC @RasmussenPoll   \n",
       "\n",
       "      label  \n",
       "0  positive  \n",
       "1  negative  \n",
       "2  positive  \n",
       "3  negative  \n",
       "4  negative  "
      ]
     },
     "execution_count": 15,
     "metadata": {},
     "output_type": "execute_result"
    }
   ],
   "source": [
    "ent_tweets = ent_tweets[[\"tweet\", \"label\"]]\n",
    "ent_tweets[\"label\"] = ent_tweets[\"label\"].map({1: \"positive\", -1: \"negative\", 0: \"neutral\"})\n",
    "ent_tweets.head()"
   ]
  },
  {
   "cell_type": "code",
   "execution_count": 16,
   "metadata": {},
   "outputs": [
    {
     "data": {
      "text/html": [
       "<div>\n",
       "<style scoped>\n",
       "    .dataframe tbody tr th:only-of-type {\n",
       "        vertical-align: middle;\n",
       "    }\n",
       "\n",
       "    .dataframe tbody tr th {\n",
       "        vertical-align: top;\n",
       "    }\n",
       "\n",
       "    .dataframe thead th {\n",
       "        text-align: right;\n",
       "    }\n",
       "</style>\n",
       "<table border=\"1\" class=\"dataframe\">\n",
       "  <thead>\n",
       "    <tr style=\"text-align: right;\">\n",
       "      <th></th>\n",
       "      <th>tweet</th>\n",
       "      <th>label</th>\n",
       "    </tr>\n",
       "  </thead>\n",
       "  <tbody>\n",
       "    <tr>\n",
       "      <th>1312</th>\n",
       "      <td>#WEB YouTube improves upload process with optional notifications and new tags editor: Google on Thur... http://t.co/28oxsfRb #TOPSTORIES</td>\n",
       "      <td>neutral</td>\n",
       "    </tr>\n",
       "    <tr>\n",
       "      <th>1313</th>\n",
       "      <td>Gonna change my Tumblr theme. I hope I can finish it later so that tomorrow, I can practice my performance on English monologue. :)</td>\n",
       "      <td>positive</td>\n",
       "    </tr>\n",
       "    <tr>\n",
       "      <th>1314</th>\n",
       "      <td>I'm so jealous of everyone at the Justin Bieber Concert. No worries tho. Ill be seeing Maroon 5 in march. @haleyhjerpe #roadtrippin</td>\n",
       "      <td>neutral</td>\n",
       "    </tr>\n",
       "    <tr>\n",
       "      <th>1315</th>\n",
       "      <td>Jim Harbaugh, Alex Smith Drive Giants World Series Parade Cars: Earlier Wednesday we told you that Jim Harbaugh ... http://t.co/TeUUihvV</td>\n",
       "      <td>neutral</td>\n",
       "    </tr>\n",
       "    <tr>\n",
       "      <th>1316</th>\n",
       "      <td>#Trending: Tim Tebow is now dating cave woman from 10,000 BC. 1st date question: \"What was it like in a time before Jesus?\"  #Tebowmania</td>\n",
       "      <td>neutral</td>\n",
       "    </tr>\n",
       "  </tbody>\n",
       "</table>\n",
       "</div>"
      ],
      "text/plain": [
       "                                                                                                                                         tweet  \\\n",
       "1312  #WEB YouTube improves upload process with optional notifications and new tags editor: Google on Thur... http://t.co/28oxsfRb #TOPSTORIES   \n",
       "1313       Gonna change my Tumblr theme. I hope I can finish it later so that tomorrow, I can practice my performance on English monologue. :)   \n",
       "1314       I'm so jealous of everyone at the Justin Bieber Concert. No worries tho. Ill be seeing Maroon 5 in march. @haleyhjerpe #roadtrippin   \n",
       "1315  Jim Harbaugh, Alex Smith Drive Giants World Series Parade Cars: Earlier Wednesday we told you that Jim Harbaugh ... http://t.co/TeUUihvV   \n",
       "1316  #Trending: Tim Tebow is now dating cave woman from 10,000 BC. 1st date question: \"What was it like in a time before Jesus?\"  #Tebowmania   \n",
       "\n",
       "         label  \n",
       "1312   neutral  \n",
       "1313  positive  \n",
       "1314   neutral  \n",
       "1315   neutral  \n",
       "1316   neutral  "
      ]
     },
     "execution_count": 16,
     "metadata": {},
     "output_type": "execute_result"
    }
   ],
   "source": [
    "ent_tweets_test = pd.read_csv(\"test.tsv\", sep='\\t', header=0)\n",
    "ent_tweets_test = ent_tweets_test[[\"tweet\", \"label\"]]\n",
    "ent_tweets_test[\"label\"] = ent_tweets_test[\"label\"].map({1: \"positive\", -1: \"negative\", 0: \"neutral\"})\n",
    "ent_tweets_test.tail()"
   ]
  },
  {
   "cell_type": "code",
   "execution_count": 17,
   "metadata": {},
   "outputs": [
    {
     "data": {
      "text/html": [
       "<div>\n",
       "<style scoped>\n",
       "    .dataframe tbody tr th:only-of-type {\n",
       "        vertical-align: middle;\n",
       "    }\n",
       "\n",
       "    .dataframe tbody tr th {\n",
       "        vertical-align: top;\n",
       "    }\n",
       "\n",
       "    .dataframe thead th {\n",
       "        text-align: right;\n",
       "    }\n",
       "</style>\n",
       "<table border=\"1\" class=\"dataframe\">\n",
       "  <thead>\n",
       "    <tr style=\"text-align: right;\">\n",
       "      <th></th>\n",
       "      <th>tweet</th>\n",
       "      <th>label</th>\n",
       "    </tr>\n",
       "  </thead>\n",
       "  <tbody>\n",
       "    <tr>\n",
       "      <th>1312</th>\n",
       "      <td>#WEB YouTube improves upload process with optional notifications and new tags editor: Google on Thur... http://t.co/28oxsfRb #TOPSTORIES</td>\n",
       "      <td>neutral</td>\n",
       "    </tr>\n",
       "    <tr>\n",
       "      <th>1313</th>\n",
       "      <td>Gonna change my Tumblr theme. I hope I can finish it later so that tomorrow, I can practice my performance on English monologue. :)</td>\n",
       "      <td>positive</td>\n",
       "    </tr>\n",
       "    <tr>\n",
       "      <th>1314</th>\n",
       "      <td>I'm so jealous of everyone at the Justin Bieber Concert. No worries tho. Ill be seeing Maroon 5 in march. @haleyhjerpe #roadtrippin</td>\n",
       "      <td>neutral</td>\n",
       "    </tr>\n",
       "    <tr>\n",
       "      <th>1315</th>\n",
       "      <td>Jim Harbaugh, Alex Smith Drive Giants World Series Parade Cars: Earlier Wednesday we told you that Jim Harbaugh ... http://t.co/TeUUihvV</td>\n",
       "      <td>neutral</td>\n",
       "    </tr>\n",
       "    <tr>\n",
       "      <th>1316</th>\n",
       "      <td>#Trending: Tim Tebow is now dating cave woman from 10,000 BC. 1st date question: \"What was it like in a time before Jesus?\"  #Tebowmania</td>\n",
       "      <td>neutral</td>\n",
       "    </tr>\n",
       "  </tbody>\n",
       "</table>\n",
       "</div>"
      ],
      "text/plain": [
       "                                                                                                                                         tweet  \\\n",
       "1312  #WEB YouTube improves upload process with optional notifications and new tags editor: Google on Thur... http://t.co/28oxsfRb #TOPSTORIES   \n",
       "1313       Gonna change my Tumblr theme. I hope I can finish it later so that tomorrow, I can practice my performance on English monologue. :)   \n",
       "1314       I'm so jealous of everyone at the Justin Bieber Concert. No worries tho. Ill be seeing Maroon 5 in march. @haleyhjerpe #roadtrippin   \n",
       "1315  Jim Harbaugh, Alex Smith Drive Giants World Series Parade Cars: Earlier Wednesday we told you that Jim Harbaugh ... http://t.co/TeUUihvV   \n",
       "1316  #Trending: Tim Tebow is now dating cave woman from 10,000 BC. 1st date question: \"What was it like in a time before Jesus?\"  #Tebowmania   \n",
       "\n",
       "         label  \n",
       "1312   neutral  \n",
       "1313  positive  \n",
       "1314   neutral  \n",
       "1315   neutral  \n",
       "1316   neutral  "
      ]
     },
     "execution_count": 17,
     "metadata": {},
     "output_type": "execute_result"
    }
   ],
   "source": [
    "final_second_source = pd.concat([ent_tweets, ent_tweets_test])\n",
    "final_second_source.tail()"
   ]
  },
  {
   "cell_type": "markdown",
   "metadata": {},
   "source": [
    "Let's take a look at the distribution of sentiment classes in this dataframe. "
   ]
  },
  {
   "cell_type": "code",
   "execution_count": 47,
   "metadata": {},
   "outputs": [
    {
     "data": {
      "image/png": "[encoded data removed]",
      "text/plain": [
       "<matplotlib.figure.Figure at 0x140490a20>"
      ]
     },
     "metadata": {},
     "output_type": "display_data"
    }
   ],
   "source": [
    "sns.countplot(x=\"label\", data=final_second_source);"
   ]
  },
  {
   "cell_type": "markdown",
   "metadata": {},
   "source": [
    "Luckily for us the number of negative tweets in this source is the least. Hence, the proportion of classes in the concatenated dataframe should be balanced. Let's perform the concatenation and find this out."
   ]
  },
  {
   "cell_type": "code",
   "execution_count": 18,
   "metadata": {},
   "outputs": [
    {
     "data": {
      "text/html": [
       "<div>\n",
       "<style scoped>\n",
       "    .dataframe tbody tr th:only-of-type {\n",
       "        vertical-align: middle;\n",
       "    }\n",
       "\n",
       "    .dataframe tbody tr th {\n",
       "        vertical-align: top;\n",
       "    }\n",
       "\n",
       "    .dataframe thead th {\n",
       "        text-align: right;\n",
       "    }\n",
       "</style>\n",
       "<table border=\"1\" class=\"dataframe\">\n",
       "  <thead>\n",
       "    <tr style=\"text-align: right;\">\n",
       "      <th></th>\n",
       "      <th>tweet</th>\n",
       "      <th>label</th>\n",
       "    </tr>\n",
       "  </thead>\n",
       "  <tbody>\n",
       "    <tr>\n",
       "      <th>0</th>\n",
       "      <td>@VirginAmerica What @dhepburn said.</td>\n",
       "      <td>neutral</td>\n",
       "    </tr>\n",
       "    <tr>\n",
       "      <th>1</th>\n",
       "      <td>@VirginAmerica plus you've added commercials to the experience... tacky.</td>\n",
       "      <td>positive</td>\n",
       "    </tr>\n",
       "    <tr>\n",
       "      <th>2</th>\n",
       "      <td>@VirginAmerica I didn't today... Must mean I need to take another trip!</td>\n",
       "      <td>neutral</td>\n",
       "    </tr>\n",
       "    <tr>\n",
       "      <th>3</th>\n",
       "      <td>@VirginAmerica it's really aggressive to blast obnoxious \"entertainment\" in your guests' faces &amp;amp; they have little recourse</td>\n",
       "      <td>negative</td>\n",
       "    </tr>\n",
       "    <tr>\n",
       "      <th>4</th>\n",
       "      <td>@VirginAmerica and it's a really big bad thing about it</td>\n",
       "      <td>negative</td>\n",
       "    </tr>\n",
       "  </tbody>\n",
       "</table>\n",
       "</div>"
      ],
      "text/plain": [
       "                                                                                                                            tweet  \\\n",
       "0                                                                                             @VirginAmerica What @dhepburn said.   \n",
       "1                                                        @VirginAmerica plus you've added commercials to the experience... tacky.   \n",
       "2                                                         @VirginAmerica I didn't today... Must mean I need to take another trip!   \n",
       "3  @VirginAmerica it's really aggressive to blast obnoxious \"entertainment\" in your guests' faces &amp; they have little recourse   \n",
       "4                                                                         @VirginAmerica and it's a really big bad thing about it   \n",
       "\n",
       "      label  \n",
       "0   neutral  \n",
       "1  positive  \n",
       "2   neutral  \n",
       "3  negative  \n",
       "4  negative  "
      ]
     },
     "execution_count": 18,
     "metadata": {},
     "output_type": "execute_result"
    }
   ],
   "source": [
    "airline_tweets = airline_tweets.rename(columns={'text': 'tweet', 'airline_sentiment': 'label'})\n",
    "airline_tweets.head()"
   ]
  },
  {
   "cell_type": "code",
   "execution_count": 19,
   "metadata": {},
   "outputs": [
    {
     "data": {
      "text/html": [
       "<div>\n",
       "<style scoped>\n",
       "    .dataframe tbody tr th:only-of-type {\n",
       "        vertical-align: middle;\n",
       "    }\n",
       "\n",
       "    .dataframe tbody tr th {\n",
       "        vertical-align: top;\n",
       "    }\n",
       "\n",
       "    .dataframe thead th {\n",
       "        text-align: right;\n",
       "    }\n",
       "</style>\n",
       "<table border=\"1\" class=\"dataframe\">\n",
       "  <thead>\n",
       "    <tr style=\"text-align: right;\">\n",
       "      <th></th>\n",
       "      <th>tweet</th>\n",
       "      <th>label</th>\n",
       "    </tr>\n",
       "  </thead>\n",
       "  <tbody>\n",
       "    <tr>\n",
       "      <th>0</th>\n",
       "      <td>@VirginAmerica What @dhepburn said.</td>\n",
       "      <td>neutral</td>\n",
       "    </tr>\n",
       "    <tr>\n",
       "      <th>1</th>\n",
       "      <td>@VirginAmerica plus you've added commercials to the experience... tacky.</td>\n",
       "      <td>positive</td>\n",
       "    </tr>\n",
       "    <tr>\n",
       "      <th>2</th>\n",
       "      <td>@VirginAmerica I didn't today... Must mean I need to take another trip!</td>\n",
       "      <td>neutral</td>\n",
       "    </tr>\n",
       "    <tr>\n",
       "      <th>3</th>\n",
       "      <td>@VirginAmerica it's really aggressive to blast obnoxious \"entertainment\" in your guests' faces &amp;amp; they have little recourse</td>\n",
       "      <td>negative</td>\n",
       "    </tr>\n",
       "    <tr>\n",
       "      <th>4</th>\n",
       "      <td>@VirginAmerica and it's a really big bad thing about it</td>\n",
       "      <td>negative</td>\n",
       "    </tr>\n",
       "  </tbody>\n",
       "</table>\n",
       "</div>"
      ],
      "text/plain": [
       "                                                                                                                            tweet  \\\n",
       "0                                                                                             @VirginAmerica What @dhepburn said.   \n",
       "1                                                        @VirginAmerica plus you've added commercials to the experience... tacky.   \n",
       "2                                                         @VirginAmerica I didn't today... Must mean I need to take another trip!   \n",
       "3  @VirginAmerica it's really aggressive to blast obnoxious \"entertainment\" in your guests' faces &amp; they have little recourse   \n",
       "4                                                                         @VirginAmerica and it's a really big bad thing about it   \n",
       "\n",
       "      label  \n",
       "0   neutral  \n",
       "1  positive  \n",
       "2   neutral  \n",
       "3  negative  \n",
       "4  negative  "
      ]
     },
     "execution_count": 19,
     "metadata": {},
     "output_type": "execute_result"
    }
   ],
   "source": [
    "final_source = pd.concat([airline_tweets, final_second_source])\n",
    "final_source.head()"
   ]
  },
  {
   "cell_type": "code",
   "execution_count": 20,
   "metadata": {},
   "outputs": [
    {
     "data": {
      "image/png": "[encoded data removed]",
      "text/plain": [
       "<matplotlib.figure.Figure at 0x11541ae80>"
      ]
     },
     "metadata": {},
     "output_type": "display_data"
    }
   ],
   "source": [
    "sns.countplot(x=\"label\", data=final_source);"
   ]
  },
  {
   "cell_type": "code",
   "execution_count": 21,
   "metadata": {},
   "outputs": [
    {
     "data": {
      "text/html": [
       "<div>\n",
       "<style scoped>\n",
       "    .dataframe tbody tr th:only-of-type {\n",
       "        vertical-align: middle;\n",
       "    }\n",
       "\n",
       "    .dataframe tbody tr th {\n",
       "        vertical-align: top;\n",
       "    }\n",
       "\n",
       "    .dataframe thead th {\n",
       "        text-align: right;\n",
       "    }\n",
       "</style>\n",
       "<table border=\"1\" class=\"dataframe\">\n",
       "  <thead>\n",
       "    <tr style=\"text-align: right;\">\n",
       "      <th></th>\n",
       "      <th>tweet</th>\n",
       "    </tr>\n",
       "    <tr>\n",
       "      <th>label</th>\n",
       "      <th></th>\n",
       "    </tr>\n",
       "  </thead>\n",
       "  <tbody>\n",
       "    <tr>\n",
       "      <th>negative</th>\n",
       "      <td>10507</td>\n",
       "    </tr>\n",
       "    <tr>\n",
       "      <th>neutral</th>\n",
       "      <td>7381</td>\n",
       "    </tr>\n",
       "    <tr>\n",
       "      <th>positive</th>\n",
       "      <td>5658</td>\n",
       "    </tr>\n",
       "  </tbody>\n",
       "</table>\n",
       "</div>"
      ],
      "text/plain": [
       "          tweet\n",
       "label          \n",
       "negative  10507\n",
       "neutral    7381\n",
       "positive   5658"
      ]
     },
     "execution_count": 21,
     "metadata": {},
     "output_type": "execute_result"
    }
   ],
   "source": [
    "new_table = final_source.pivot_table(index=\"label\", values=['tweet'], aggfunc='count')\n",
    "new_table.sort_values(by=['tweet'], ascending=False)"
   ]
  },
  {
   "cell_type": "markdown",
   "metadata": {},
   "source": [
    "As you can see, the distribution is not balanced. I decided not to artificially balance the proportion by adding dummy data (copying some neutral and positive tweets) or randomly deleting negative tweets. In order to combat this imbalance, I am going to perform StratifiedCrossValidation (which takes into account the primal distribution of labels while sampling) and I am **NOT** going to use accuracy score as an assessor for our classifier. I will use *F1-Score* which is a weighted average between precision and recall and which is more suitable for imbalanced data. "
   ]
  },
  {
   "cell_type": "markdown",
   "metadata": {},
   "source": [
    "## Training SVM and NB on the unigram model"
   ]
  },
  {
   "cell_type": "markdown",
   "metadata": {},
   "source": [
    "**How does it work?**<br>\n",
    "I am going to count how many time words from our corpus occur in the texts, but I am going to do this in a smarter way than just plainly counting the occurences (the latter procedure will still be done though: **CountVectorizer**).\n",
    "*\"In a large text corpus, some words will be very present (e.g. “the”, “a”, “is” in English) hence carrying very little meaningful information about the actual contents of the document. If we were to feed the direct count data directly to a classifier those very frequent terms would shadow the frequencies of rarer yet more interesting terms.\"* (taken from __[scikit-learn documentation on Tf–idf](http://scikit-learn.org/stable/modules/feature_extraction.html)__).<br>\n",
    "In the sentiment analysis task not shadowing the frequences of rarer words is extremely important, since these rare words *can* be opinion bearing. Tf-idf metric helps to balance the contribution of high and low frequency words.<br>\n",
    "Scikit-learn's **TfidfVectorizer** creates a matrix where on the intersection of rows (texts' IDs) and columns (words from the corpus) a tf-idf measure of a concrete word in a text is presented.<br>\n",
    "I am going to preprocess the tweets (tokenize, lemmatize them, get rid of user mentions starting with an \"@\" and pronouns). "
   ]
  },
  {
   "cell_type": "code",
   "execution_count": 22,
   "metadata": {},
   "outputs": [],
   "source": [
    "import spacy\n",
    "nlp = spacy.load('en')"
   ]
  },
  {
   "cell_type": "code",
   "execution_count": 23,
   "metadata": {},
   "outputs": [],
   "source": [
    "def my_preprocessing(text):\n",
    "    return [word.lemma_ for word in nlp(html.unescape(text)) if word.lemma_ != \"-PRON-\" and not word.text.startswith(\"@\")]"
   ]
  },
  {
   "cell_type": "code",
   "execution_count": 20,
   "metadata": {},
   "outputs": [],
   "source": [
    "unigram_vectorizer = CountVectorizer(ngram_range=(1, 1), tokenizer=my_preprocessing)\n",
    "unigram_vectorizer_Tf = TfidfVectorizer(ngram_range=(1, 1), tokenizer=my_preprocessing)\n",
    "bowed_lines = unigram_vectorizer.fit_transform(final_source[\"tweet\"])\n",
    "bowed_lines_Tf = unigram_vectorizer_Tf.fit_transform(final_source[\"tweet\"])"
   ]
  },
  {
   "cell_type": "code",
   "execution_count": 25,
   "metadata": {},
   "outputs": [],
   "source": [
    "labels = final_source[\"label\"]"
   ]
  },
  {
   "cell_type": "code",
   "execution_count": 24,
   "metadata": {},
   "outputs": [],
   "source": [
    "NB = MultinomialNB()\n",
    "SVM = LinearSVC(multi_class=\"crammer_singer\", class_weight=\"balanced\")"
   ]
  },
  {
   "cell_type": "code",
   "execution_count": 24,
   "metadata": {},
   "outputs": [],
   "source": [
    "scores = cross_val_score(NB, bowed_lines, labels, cv=5, scoring=\"f1_micro\")"
   ]
  },
  {
   "cell_type": "code",
   "execution_count": 26,
   "metadata": {},
   "outputs": [
    {
     "data": {
      "text/plain": [
       "0.6684059025793292"
      ]
     },
     "execution_count": 26,
     "metadata": {},
     "output_type": "execute_result"
    }
   ],
   "source": [
    "# NB with CountVectorizer\n",
    "np.mean(scores)"
   ]
  },
  {
   "cell_type": "code",
   "execution_count": 27,
   "metadata": {},
   "outputs": [],
   "source": [
    "scores = cross_val_score(NB, bowed_lines_Tf, labels, cv=5, scoring=\"f1_micro\")"
   ]
  },
  {
   "cell_type": "code",
   "execution_count": 28,
   "metadata": {},
   "outputs": [
    {
     "data": {
      "text/plain": [
       "0.5982901297299383"
      ]
     },
     "execution_count": 28,
     "metadata": {},
     "output_type": "execute_result"
    }
   ],
   "source": [
    "# NB with TfidfVectorizer\n",
    "np.mean(scores)"
   ]
  },
  {
   "cell_type": "code",
   "execution_count": 34,
   "metadata": {},
   "outputs": [],
   "source": [
    "scores = cross_val_score(SVM, bowed_lines, labels, cv=5, scoring=\"f1_micro\")"
   ]
  },
  {
   "cell_type": "code",
   "execution_count": 35,
   "metadata": {},
   "outputs": [
    {
     "data": {
      "text/plain": [
       "0.6698737336802192"
      ]
     },
     "execution_count": 35,
     "metadata": {},
     "output_type": "execute_result"
    }
   ],
   "source": [
    "# SVM wirh CountVectorizer\n",
    "np.mean(scores)"
   ]
  },
  {
   "cell_type": "code",
   "execution_count": 31,
   "metadata": {},
   "outputs": [],
   "source": [
    "scores = cross_val_score(SVM, bowed_lines_Tf, labels, cv=5, scoring=\"f1_micro\")"
   ]
  },
  {
   "cell_type": "code",
   "execution_count": 32,
   "metadata": {},
   "outputs": [
    {
     "data": {
      "text/plain": [
       "0.6978622234556637"
      ]
     },
     "execution_count": 32,
     "metadata": {},
     "output_type": "execute_result"
    }
   ],
   "source": [
    "# SVM with TfidfVectorizer\n",
    "np.mean(scores)"
   ]
  },
  {
   "cell_type": "markdown",
   "metadata": {},
   "source": [
    "SVM classifier performed better than Naive Bayes. As for Naive Bayes, the performance on the matrix created by the raw frequencies count is better than using Tf-idf. The Tf-idf metric ties frequencies of words to the particular corpus, while the basic assumption behind Naive Bayes is *independence* of words.<br>\n",
    "Now I am going to build confusion matrices for Naive Bayes (with CountVectorizer) and SVM (with TfidfVectorizer) classifiers."
   ]
  },
  {
   "cell_type": "code",
   "execution_count": 29,
   "metadata": {},
   "outputs": [],
   "source": [
    "import itertools\n",
    "\n",
    "def plot_confusion_matrix(cm, classes,\n",
    "                          normalize=False,\n",
    "                          title='Confusion matrix',\n",
    "                          cmap=plt.cm.Blues):\n",
    "    \"\"\"\n",
    "    This function prints and plots the confusion matrix.\n",
    "    Normalization can be applied by setting `normalize=True`.\n",
    "    \"\"\"\n",
    "    if normalize:\n",
    "        cm = cm.astype('float') / cm.sum(axis=1)[:, np.newaxis]\n",
    "        print(\"Normalized confusion matrix\")\n",
    "    else:\n",
    "        print('Confusion matrix, without normalization')\n",
    "\n",
    "    print(cm)\n",
    "\n",
    "    plt.imshow(cm, interpolation='nearest', cmap=cmap)\n",
    "    plt.title(title)\n",
    "    plt.colorbar()\n",
    "    tick_marks = np.arange(len(classes))\n",
    "    plt.xticks(tick_marks, classes, rotation=45)\n",
    "    plt.yticks(tick_marks, classes)\n",
    "\n",
    "    fmt = '.2f' if normalize else 'd'\n",
    "    thresh = cm.max() / 2.\n",
    "    for i, j in itertools.product(range(cm.shape[0]), range(cm.shape[1])):\n",
    "        plt.text(j, i, format(cm[i, j], fmt),\n",
    "                 horizontalalignment=\"center\",\n",
    "                 color=\"white\" if cm[i, j] > thresh else \"black\")\n",
    "\n",
    "    plt.tight_layout()\n",
    "    plt.ylabel('True label')\n",
    "    plt.xlabel('Predicted label')"
   ]
  },
  {
   "cell_type": "code",
   "execution_count": 42,
   "metadata": {},
   "outputs": [
    {
     "name": "stdout",
     "output_type": "stream",
     "text": [
      "             precision    recall  f1-score   support\n",
      "\n",
      "   negative       0.69      0.86      0.76     10507\n",
      "    neutral       0.63      0.49      0.55      7381\n",
      "   positive       0.66      0.54      0.59      5658\n",
      "\n",
      "avg / total       0.66      0.67      0.66     23546\n",
      "\n",
      "Confusion matrix, without normalization\n",
      "[[9054  951  502]\n",
      " [2651 3635 1095]\n",
      " [1459 1150 3049]]\n"
     ]
    },
    {
     "data": {
      "image/png": "[encoded data removed]",
      "text/plain": [
       "<matplotlib.figure.Figure at 0x11924eba8>"
      ]
     },
     "metadata": {},
     "output_type": "display_data"
    }
   ],
   "source": [
    "# NB with CountVectorizer()\n",
    "y_pred = cross_val_predict(NB, bowed_lines, labels, cv=5)\n",
    "conf_mat = confusion_matrix(labels, y_pred)\n",
    "print(classification_report(labels, y_pred))\n",
    "\n",
    "# Plot non-normalized confusion matrix\n",
    "plt.figure()\n",
    "plot_confusion_matrix(conf_mat, classes=[\"negative\", \"neutral\", \"positive\"],\n",
    "                      title='Confusion matrix, without normalization')\n",
    "\n",
    "plt.savefig(\"NB_confusionmatrix.png\")\n",
    "plt.show()"
   ]
  },
  {
   "cell_type": "code",
   "execution_count": 43,
   "metadata": {},
   "outputs": [
    {
     "name": "stdout",
     "output_type": "stream",
     "text": [
      "             precision    recall  f1-score   support\n",
      "\n",
      "   negative       0.77      0.77      0.77     10507\n",
      "    neutral       0.62      0.62      0.62      7381\n",
      "   positive       0.67      0.65      0.66      5658\n",
      "\n",
      "avg / total       0.70      0.70      0.70     23546\n",
      "\n",
      "Confusion matrix, without normalization\n",
      "[[8135 1636  736]\n",
      " [1661 4603 1117]\n",
      " [ 743 1221 3694]]\n"
     ]
    },
    {
     "data": {
      "image/png": "[encoded data removed]",
      "text/plain": [
       "<matplotlib.figure.Figure at 0x1197cb390>"
      ]
     },
     "metadata": {},
     "output_type": "display_data"
    }
   ],
   "source": [
    "# SVM with TfidfVectorizer()\n",
    "y_pred = cross_val_predict(SVM, bowed_lines_Tf, labels, cv=5)\n",
    "conf_mat = confusion_matrix(labels, y_pred)\n",
    "print(classification_report(labels, y_pred))\n",
    "\n",
    "# Plot non-normalized confusion matrix\n",
    "plt.figure()\n",
    "plot_confusion_matrix(conf_mat, classes=[\"negative\", \"neutral\", \"positive\"],\n",
    "                      title='Confusion matrix, without normalization')\n",
    "\n",
    "plt.savefig(\"SVM_confusionmatrix.png\")\n",
    "plt.show()"
   ]
  },
  {
   "cell_type": "markdown",
   "metadata": {},
   "source": [
    "The poorest performance for both classifiers refer to neutral tweets. They have the lowest f1-score and were misclassified as negative or positive. This finding is consistent with the Sentiment Neuron's output: even neutral tweets can bare some slight non-neutral sentiment which makes the task for ML hard."
   ]
  },
  {
   "cell_type": "code",
   "execution_count": 36,
   "metadata": {},
   "outputs": [],
   "source": [
    "def print_top10(vectorizer, clf, class_labels):\n",
    "    \"\"\"Prints features with the highest coefficient values, per class\"\"\"\n",
    "    feature_names = vectorizer.get_feature_names()\n",
    "    for i, class_label in enumerate(class_labels):\n",
    "        top10 = np.argsort(clf.coef_[i])[-10:]\n",
    "        print(\"%s: %s\" % (class_label,\n",
    "              \"; \".join(feature_names[j] for j in top10)))"
   ]
  },
  {
   "cell_type": "code",
   "execution_count": 48,
   "metadata": {},
   "outputs": [
    {
     "name": "stdout",
     "output_type": "stream",
     "text": [
      "negative: cancel screw fail :( fuck hour bad lose delay not\n",
      "neutral: yea download extension grandma poster 462 christianity voting murphy 2013\n",
      "positive: fun amazing :) thank happy good excited awesome love great\n"
     ]
    }
   ],
   "source": [
    "print_top10(unigram_vectorizer_Tf, SVM.fit(bowed_lines_Tf, labels), class_labels=[\"negative\", \"neutral\", \"positive\"])"
   ]
  },
  {
   "cell_type": "code",
   "execution_count": 49,
   "metadata": {},
   "outputs": [
    {
     "name": "stdout",
     "output_type": "stream",
     "text": [
      "negative: ? , flight a not i the to be .\n",
      "neutral: in i ! on ? , to be . the\n",
      "positive: a for i # , to the be . !\n"
     ]
    }
   ],
   "source": [
    "print_top10(unigram_vectorizer, NB.fit(bowed_lines, labels), class_labels=[\"negative\", \"neutral\", \"positive\"])"
   ]
  },
  {
   "cell_type": "markdown",
   "metadata": {},
   "source": [
    "Since the Naive Bayes classifier which performed best (in comparison to NB classifier trained on the Tf-idf matrix) was trained on the matrix with bare frequences, the features that contributed the most to the classes turned out to be mostly punctuation signs and stopwords. Interestingly, negation *not* turned out to be very relevant for determining negative tweets both in NB and SVM classifiers. As for SVM, tf-idf weights made opinion words (positive and negative) become top significant features for correct classification of positive and negative tweets. Most significant terms for detecting neutral tweets are some common words."
   ]
  },
  {
   "cell_type": "markdown",
   "metadata": {},
   "source": [
    "## Adding bigrams to our unigram model"
   ]
  },
  {
   "cell_type": "code",
   "execution_count": 26,
   "metadata": {},
   "outputs": [],
   "source": [
    "unibigram_vectorizer = CountVectorizer(ngram_range=(1, 2), tokenizer=my_preprocessing)\n",
    "unibigram_vectorizer_Tf = TfidfVectorizer(ngram_range=(1, 2), tokenizer=my_preprocessing)"
   ]
  },
  {
   "cell_type": "code",
   "execution_count": 27,
   "metadata": {},
   "outputs": [],
   "source": [
    "bowed_lines_unibi = unibigram_vectorizer.fit_transform(final_source[\"tweet\"])\n",
    "bowed_lines_unibi_Tf = unibigram_vectorizer_Tf.fit_transform(final_source[\"tweet\"])"
   ]
  },
  {
   "cell_type": "code",
   "execution_count": 53,
   "metadata": {},
   "outputs": [],
   "source": [
    "scores = cross_val_score(NB, bowed_lines_unibi, labels, cv=5, scoring=\"f1_micro\")"
   ]
  },
  {
   "cell_type": "code",
   "execution_count": 54,
   "metadata": {},
   "outputs": [
    {
     "data": {
      "text/plain": [
       "0.6746912877080365"
      ]
     },
     "execution_count": 54,
     "metadata": {},
     "output_type": "execute_result"
    }
   ],
   "source": [
    "# NB with CountVectorizer\n",
    "np.mean(scores)"
   ]
  },
  {
   "cell_type": "code",
   "execution_count": 55,
   "metadata": {},
   "outputs": [],
   "source": [
    "scores = cross_val_score(SVM, bowed_lines_unibi_Tf, labels, cv=5, scoring=\"f1_micro\")"
   ]
  },
  {
   "cell_type": "code",
   "execution_count": 56,
   "metadata": {},
   "outputs": [
    {
     "data": {
      "text/plain": [
       "0.7173569086142918"
      ]
     },
     "execution_count": 56,
     "metadata": {},
     "output_type": "execute_result"
    }
   ],
   "source": [
    "# SVM with TfidfVectorizer\n",
    "np.mean(scores)"
   ]
  },
  {
   "cell_type": "code",
   "execution_count": 30,
   "metadata": {},
   "outputs": [
    {
     "name": "stdout",
     "output_type": "stream",
     "text": [
      "             precision    recall  f1-score   support\n",
      "\n",
      "   negative       0.68      0.88      0.77     10507\n",
      "    neutral       0.65      0.49      0.56      7381\n",
      "   positive       0.69      0.55      0.61      5658\n",
      "\n",
      "avg / total       0.67      0.67      0.66     23546\n",
      "\n",
      "Confusion matrix, without normalization\n",
      "[[9197  885  425]\n",
      " [2789 3603  989]\n",
      " [1539 1033 3086]]\n"
     ]
    },
    {
     "data": {
      "image/png": "[encoded data removed]",
      "text/plain": [
       "<matplotlib.figure.Figure at 0x1e60d7c50>"
      ]
     },
     "metadata": {},
     "output_type": "display_data"
    }
   ],
   "source": [
    "# NB with CountVectorizer() and bigrams\n",
    "y_pred = cross_val_predict(NB, bowed_lines_unibi, labels, cv=5)\n",
    "conf_mat = confusion_matrix(labels, y_pred)\n",
    "print(classification_report(labels, y_pred))\n",
    "\n",
    "# Plot non-normalized confusion matrix\n",
    "plt.figure()\n",
    "plot_confusion_matrix(conf_mat, classes=[\"negative\", \"neutral\", \"positive\"],\n",
    "                      title='Confusion matrix, without normalization')\n",
    "\n",
    "plt.savefig(\"NB_bi_confusionmatrix.png\")\n",
    "plt.show()"
   ]
  },
  {
   "cell_type": "code",
   "execution_count": 31,
   "metadata": {},
   "outputs": [
    {
     "name": "stdout",
     "output_type": "stream",
     "text": [
      "             precision    recall  f1-score   support\n",
      "\n",
      "   negative       0.77      0.80      0.79     10507\n",
      "    neutral       0.63      0.67      0.65      7381\n",
      "   positive       0.73      0.63      0.68      5658\n",
      "\n",
      "avg / total       0.72      0.72      0.72     23546\n",
      "\n",
      "Confusion matrix, without normalization\n",
      "[[8394 1580  533]\n",
      " [1675 4927  779]\n",
      " [ 771 1317 3570]]\n"
     ]
    },
    {
     "data": {
      "image/png": "[encoded data removed]",
      "text/plain": [
       "<matplotlib.figure.Figure at 0x1e8d5c400>"
      ]
     },
     "metadata": {},
     "output_type": "display_data"
    }
   ],
   "source": [
    "# SVM with TfidfVectorizer() and bigrams\n",
    "y_pred = cross_val_predict(SVM, bowed_lines_unibi_Tf, labels, cv=5)\n",
    "conf_mat = confusion_matrix(labels, y_pred)\n",
    "print(classification_report(labels, y_pred))\n",
    "\n",
    "# Plot non-normalized confusion matrix\n",
    "plt.figure()\n",
    "plot_confusion_matrix(conf_mat, classes=[\"negative\", \"neutral\", \"positive\"],\n",
    "                      title='Confusion matrix, without normalization')\n",
    "\n",
    "plt.savefig(\"SVM_bi_confusionmatrix.png\")\n",
    "plt.show()"
   ]
  },
  {
   "cell_type": "code",
   "execution_count": 37,
   "metadata": {},
   "outputs": [
    {
     "name": "stdout",
     "output_type": "stream",
     "text": [
      "negative: why; bag; fuck; :(; hour; no; lose; bad; delay; not\n",
      "neutral: no thank; saturday; good ?; not follow; sorry ,; do have; be flight; hi; be what; ?\n",
      "positive: amazing; !; excited; awesome; :); not wait; happy; good; love; great\n"
     ]
    }
   ],
   "source": [
    "print_top10(unibigram_vectorizer_Tf, SVM.fit(bowed_lines_unibi_Tf, labels), class_labels=[\"negative\", \"neutral\", \"positive\"])"
   ]
  },
  {
   "cell_type": "code",
   "execution_count": 38,
   "metadata": {},
   "outputs": [
    {
     "name": "stdout",
     "output_type": "stream",
     "text": [
      "negative: ?; ,; flight; a; not; i; the; to; be; .\n",
      "neutral: in; i; !; on; ?; ,; to; be; .; the\n",
      "positive: a; for; i; #; ,; to; the; be; .; !\n"
     ]
    }
   ],
   "source": [
    "print_top10(unibigram_vectorizer, NB.fit(bowed_lines_unibi, labels), class_labels=[\"negative\", \"neutral\", \"positive\"])"
   ]
  },
  {
   "cell_type": "markdown",
   "metadata": {},
   "source": [
    "Adding bigrams improved performance of both NB and SVM classifiers. Neutral tweets stay still the most complicated category for classification. "
   ]
  },
  {
   "cell_type": "markdown",
   "metadata": {},
   "source": [
    "## Testing our models on the survey data"
   ]
  },
  {
   "cell_type": "code",
   "execution_count": 32,
   "metadata": {},
   "outputs": [],
   "source": [
    "text = np.array(text)\n",
    "sentiment = np.array([\"neutral\", \"neutral\", \"neutral\", \"neutral\", \"neutral\", \"neutral\", \"neutral\", \"neutral\", \"neutral\", \"neutral\",\n",
    "                  \"negative\", \"negative\", \"negative\", \"negative\", \"negative\", \"negative\", \"negative\", \"negative\", \"negative\", \"negative\",\n",
    "                  \"positive\", \"positive\", \"positive\", \"positive\", \"positive\", \"positive\", \"positive\", \"positive\", \"positive\", \"positive\"])"
   ]
  },
  {
   "cell_type": "code",
   "execution_count": 33,
   "metadata": {},
   "outputs": [],
   "source": [
    "X_test = unibigram_vectorizer.transform(text)"
   ]
  },
  {
   "cell_type": "code",
   "execution_count": 39,
   "metadata": {},
   "outputs": [
    {
     "name": "stdout",
     "output_type": "stream",
     "text": [
      "             precision    recall  f1-score   support\n",
      "\n",
      "   negative       0.47      0.90      0.62        10\n",
      "    neutral       1.00      0.20      0.33        10\n",
      "   positive       0.89      0.80      0.84        10\n",
      "\n",
      "avg / total       0.79      0.63      0.60        30\n",
      "\n",
      "Confusion matrix, without normalization\n",
      "[[9 0 1]\n",
      " [8 2 0]\n",
      " [2 0 8]]\n"
     ]
    },
    {
     "data": {
      "image/png": "[encoded data removed]",
      "text/plain": [
       "<matplotlib.figure.Figure at 0x1ebce42b0>"
      ]
     },
     "metadata": {},
     "output_type": "display_data"
    }
   ],
   "source": [
    "# NB with CountVectorizer and bigrams\n",
    "y_pred = NB.predict(X_test)\n",
    "print(classification_report(sentiment, y_pred))\n",
    "\n",
    "# Compute confusion matrix\n",
    "cnf_matrix = confusion_matrix(sentiment, y_pred)\n",
    "np.set_printoptions(precision=2)\n",
    "\n",
    "# Plot non-normalized confusion matrix\n",
    "plt.figure()\n",
    "plot_confusion_matrix(cnf_matrix, classes=[\"negative\", \"neutral\", \"positive\"],\n",
    "                      title='Confusion matrix, without normalization')\n",
    "plt.savefig(\"NB_test_result.png\")\n",
    "plt.show()"
   ]
  },
  {
   "cell_type": "code",
   "execution_count": 100,
   "metadata": {},
   "outputs": [
    {
     "name": "stdout",
     "output_type": "stream",
     "text": [
      "Let's drive carefully out there folks. Untreated roads look wet but it's more likely to be black ice.: negative\n",
      "----\n",
      "this issue is primarily about Japanese-owned plants located in UK to serve EU mkt - higher costs & they relocate.: negative\n",
      "----\n",
      "So today I bought liability insurance, registered as self-employed for my #BODYCOMBAT teaching: negative\n",
      "----\n",
      "Took a photo to be mounted yesterday going to submit it in a competition.: negative\n",
      "----\n",
      "I'm making a bot that generates art critiques. Preliminary tests prove it could maybe be more constructive with its criticism: negative\n",
      "----\n",
      "I spoke with bristol wastecompany recently about food waste, compost and personal responsibility: negative\n",
      "----\n",
      "First attempt at computer controlled astrophotography...target Messier 42, The Orion Nebula: negative\n",
      "----\n",
      "Lack of awareness of alternative finance options among SMEs is creating a potential economic hole of up to £20bn: negative\n",
      "----\n",
      "Watching saints and scroungers on bbc1,makes me feel quite angry x: positive\n",
      "----\n",
      "Everyone was placed together on one table so it was quite nice x: negative\n",
      "----\n",
      "Free drink at work- don't mind if I do: negative\n",
      "----\n"
     ]
    }
   ],
   "source": [
    "misclassified = np.where(y_pred != sentiment)\n",
    "for i in misclassified[0]:\n",
    "    print(text[i] + \": \" + y_pred[i])\n",
    "    print(\"----\")"
   ]
  },
  {
   "cell_type": "code",
   "execution_count": 41,
   "metadata": {},
   "outputs": [],
   "source": [
    "X_test_Tf = unibigram_vectorizer_Tf.transform(text)"
   ]
  },
  {
   "cell_type": "code",
   "execution_count": 42,
   "metadata": {},
   "outputs": [
    {
     "name": "stdout",
     "output_type": "stream",
     "text": [
      "             precision    recall  f1-score   support\n",
      "\n",
      "   negative       0.69      0.90      0.78        10\n",
      "    neutral       0.80      0.40      0.53        10\n",
      "   positive       0.83      1.00      0.91        10\n",
      "\n",
      "avg / total       0.78      0.77      0.74        30\n",
      "\n",
      "Confusion matrix, without normalization\n",
      "[[ 9  1  0]\n",
      " [ 4  4  2]\n",
      " [ 0  0 10]]\n"
     ]
    },
    {
     "data": {
      "image/png": "[encoded data removed]",
      "text/plain": [
       "<matplotlib.figure.Figure at 0x1ebce4d30>"
      ]
     },
     "metadata": {},
     "output_type": "display_data"
    }
   ],
   "source": [
    "# SVM with TfidfVectorizer and bigrams\n",
    "y_pred = SVM.predict(X_test_Tf)\n",
    "print(classification_report(sentiment, y_pred))\n",
    "\n",
    "# Compute confusion matrix\n",
    "cnf_matrix = confusion_matrix(sentiment, y_pred)\n",
    "np.set_printoptions(precision=2)\n",
    "\n",
    "# Plot non-normalized confusion matrix\n",
    "plt.figure()\n",
    "plot_confusion_matrix(cnf_matrix, classes=[\"negative\", \"neutral\", \"positive\"],\n",
    "                      title='Confusion matrix, without normalization')\n",
    "plt.savefig(\"SVM_test_result.png\")\n",
    "plt.show()"
   ]
  },
  {
   "cell_type": "code",
   "execution_count": 103,
   "metadata": {},
   "outputs": [
    {
     "name": "stdout",
     "output_type": "stream",
     "text": [
      "Let's drive carefully out there folks. Untreated roads look wet but it's more likely to be black ice.: positive\n",
      "----\n",
      "this issue is primarily about Japanese-owned plants located in UK to serve EU mkt - higher costs & they relocate.: negative\n",
      "----\n",
      "Took a photo to be mounted yesterday going to submit it in a competition.: positive\n",
      "----\n",
      "I'm making a bot that generates art critiques. Preliminary tests prove it could maybe be more constructive with its criticism: negative\n",
      "----\n",
      "I spoke with bristol wastecompany recently about food waste, compost and personal responsibility: negative\n",
      "----\n",
      "Lack of awareness of alternative finance options among SMEs is creating a potential economic hole of up to £20bn: negative\n",
      "----\n",
      "Watching saints and scroungers on bbc1,makes me feel quite angry x: neutral\n",
      "----\n"
     ]
    }
   ],
   "source": [
    "misclassified = np.where(y_pred != sentiment)\n",
    "for i in misclassified[0]:\n",
    "    print(text[i] + \": \" + y_pred[i])\n",
    "    print(\"----\")"
   ]
  },
  {
   "cell_type": "markdown",
   "metadata": {},
   "source": [
    "Let's analyze SVM classifier (since it has the highest performance). Neutral tweets are misclassified the most. Taking a closer look at the concrete examples that were misclassified can helps us to speculate about the mistakes. In the list above my project partner and I consider every tweet neutral except for the last one. The last one which was classified as neutral, but clearly has negative sentiment has a diminisher in it (*quite*) which may have \"confused\" the classifier.<br>\n",
    "As it has been already said, it is hard to find a completely neutral sentiment on Twitter. For example, one can consider that the tweet *\"Took a photo to be mounted yesterday going to submit it in a competition.\"* to have positive sentiment like our classifier did. Indeed, even though the tweet itself is matter-of-factor(ish), submitting a photo in a competition can be treated as a good news.<br>\n",
    "*I'm making a bot that generates art critiques. Preliminary tests prove it could maybe be more constructive with its criticism*. This tweet is also quite objective, our classifier most probably reacted to the presence of such negative opinion words as *critiquie* and *criticism*. However, this tweet **may** also be treated as negative by humans: finding a mistake in your bot can be pretty disappointing (trust me on this :))."
   ]
  },
  {
   "cell_type": "code",
   "execution_count": 86,
   "metadata": {},
   "outputs": [],
   "source": [
    "unigram_vectorizer = CountVectorizer(ngram_range=(1, 1), tokenizer=my_preprocessing)"
   ]
  },
  {
   "cell_type": "code",
   "execution_count": 87,
   "metadata": {},
   "outputs": [],
   "source": [
    "bowed_lines = unigram_vectorizer.fit_transform(final_source[\"tweet\"])\n",
    "labels = final_source[\"label\"]"
   ]
  },
  {
   "cell_type": "code",
   "execution_count": 94,
   "metadata": {},
   "outputs": [],
   "source": [
    "unigram_vectorizer_Tf = TfidfVectorizer(ngram_range=(1, 1), tokenizer=my_preprocessing)\n",
    "bowed_lines_Tf = unigram_vectorizer_Tf.fit_transform(final_source[\"tweet\"])"
   ]
  },
  {
   "cell_type": "code",
   "execution_count": 88,
   "metadata": {},
   "outputs": [
    {
     "name": "stdout",
     "output_type": "stream",
     "text": [
      "(23546, 26602)\n",
      "(23546,)\n"
     ]
    }
   ],
   "source": [
    "print(bowed_lines.shape)\n",
    "print(labels.shape)"
   ]
  },
  {
   "cell_type": "code",
   "execution_count": 72,
   "metadata": {},
   "outputs": [],
   "source": [
    "from sklearn.pipeline import Pipeline\n",
    "from sklearn.naive_bayes import MultinomialNB\n",
    "\n",
    "pipeline = Pipeline([\n",
    "    ('vectorizer',  TfidfVectorizer(ngram_range=(1, 1), tokenizer=my_preprocessing)),\n",
    "    ('classifier',  MultinomialNB())])"
   ]
  },
  {
   "cell_type": "code",
   "execution_count": 89,
   "metadata": {},
   "outputs": [],
   "source": [
    "clf = MultinomialNB()\n",
    "scores = cross_val_score(clf, bowed_lines, labels, cv=5, scoring=\"f1_micro\")"
   ]
  },
  {
   "cell_type": "code",
   "execution_count": 90,
   "metadata": {},
   "outputs": [
    {
     "data": {
      "text/plain": [
       "array([0.58756103, 0.59936306, 0.76364409, 0.8028887 , 0.58857264])"
      ]
     },
     "execution_count": 90,
     "metadata": {},
     "output_type": "execute_result"
    }
   ],
   "source": [
    "#CountVectorizer\n",
    "scores"
   ]
  },
  {
   "cell_type": "code",
   "execution_count": 85,
   "metadata": {},
   "outputs": [
    {
     "data": {
      "text/plain": [
       "array([0.50944598, 0.53163482, 0.65873859, 0.68542906, 0.60620221])"
      ]
     },
     "execution_count": 85,
     "metadata": {},
     "output_type": "execute_result"
    }
   ],
   "source": [
    "#TfIdf vectorizer\n",
    "scores"
   ]
  },
  {
   "cell_type": "code",
   "execution_count": 92,
   "metadata": {},
   "outputs": [],
   "source": [
    "clf = LinearSVC(multi_class=\"crammer_singer\")\n",
    "scores = cross_val_score(clf, bowed_lines, labels, cv=5, scoring=\"f1_micro\")"
   ]
  },
  {
   "cell_type": "code",
   "execution_count": 93,
   "metadata": {},
   "outputs": [
    {
     "data": {
      "text/plain": [
       "array([0.70494587, 0.68301486, 0.6910172 , 0.68521665, 0.58496177])"
      ]
     },
     "execution_count": 93,
     "metadata": {},
     "output_type": "execute_result"
    }
   ],
   "source": [
    "#CountVectorizer\n",
    "scores"
   ]
  },
  {
   "cell_type": "code",
   "execution_count": 95,
   "metadata": {},
   "outputs": [
    {
     "data": {
      "text/plain": [
       "array([0.71725748, 0.6970276 , 0.73115311, 0.73831776, 0.605565  ])"
      ]
     },
     "execution_count": 95,
     "metadata": {},
     "output_type": "execute_result"
    }
   ],
   "source": [
    "#TfidfVectorizer\n",
    "scores = cross_val_score(clf, bowed_lines_Tf, labels, cv=5, scoring=\"f1_micro\")\n",
    "scores"
   ]
  },
  {
   "cell_type": "code",
   "execution_count": 110,
   "metadata": {},
   "outputs": [],
   "source": [
    "# class weights? balanced\n",
    "from sklearn.model_selection import cross_val_predict\n",
    "from sklearn.metrics import confusion_matrix\n",
    "clf = LinearSVC(multi_class=\"crammer_singer\")\n",
    "y_pred = cross_val_predict(clf, bowed_lines_Tf, labels, cv=5)\n",
    "conf_mat = confusion_matrix(labels, y_pred)"
   ]
  },
  {
   "cell_type": "code",
   "execution_count": 111,
   "metadata": {},
   "outputs": [
    {
     "data": {
      "text/plain": [
       "array([[8448, 1499,  560],\n",
       "       [1959, 4524,  898],\n",
       "       [ 937, 1261, 3460]])"
      ]
     },
     "execution_count": 111,
     "metadata": {},
     "output_type": "execute_result"
    }
   ],
   "source": [
    "conf_mat"
   ]
  },
  {
   "cell_type": "code",
   "execution_count": 113,
   "metadata": {},
   "outputs": [
    {
     "name": "stdout",
     "output_type": "stream",
     "text": [
      "             precision    recall  f1-score   support\n",
      "\n",
      "   negative       0.74      0.80      0.77     10507\n",
      "    neutral       0.62      0.61      0.62      7381\n",
      "   positive       0.70      0.61      0.65      5658\n",
      "\n",
      "avg / total       0.70      0.70      0.70     23546\n",
      "\n"
     ]
    }
   ],
   "source": [
    "print(classification_report(labels, y_pred))"
   ]
  },
  {
   "cell_type": "code",
   "execution_count": 109,
   "metadata": {},
   "outputs": [
    {
     "name": "stdout",
     "output_type": "stream",
     "text": [
      "Collecting scikit-learn\n",
      "  Using cached scikit_learn-0.19.1-cp36-cp36m-macosx_10_6_intel.macosx_10_9_intel.macosx_10_9_x86_64.macosx_10_10_intel.macosx_10_10_x86_64.whl\n",
      "Installing collected packages: scikit-learn\n",
      "  Found existing installation: scikit-learn 0.15.2\n",
      "    Uninstalling scikit-learn-0.15.2:\n",
      "      Successfully uninstalled scikit-learn-0.15.2\n",
      "Successfully installed scikit-learn-0.19.1\n"
     ]
    }
   ],
   "source": [
    "!pip3 install -U scikit-learn"
   ]
  },
  {
   "cell_type": "code",
   "execution_count": 80,
   "metadata": {},
   "outputs": [
    {
     "name": "stdout",
     "output_type": "stream",
     "text": [
      "Total tweets classified: 23546\n",
      "Score: 0.0001278727368873642\n",
      "Confusion matrix:\n",
      "[[10144   328    35]\n",
      " [ 4450  2694   237]\n",
      " [ 3239  1078  1341]]\n"
     ]
    }
   ],
   "source": [
    "from sklearn.cross_validation import KFold\n",
    "from sklearn.metrics import confusion_matrix, f1_score\n",
    "import numpy\n",
    "\n",
    "k_fold = KFold(n=len(final_source), n_folds=5)\n",
    "scores = []\n",
    "confusion = numpy.array([[0, 0, 0], [0, 0, 0], [0, 0, 0]])\n",
    "for train_indices, test_indices in k_fold:\n",
    "    train_text = final_source.iloc[train_indices]['tweet'].values\n",
    "    train_y = final_source.iloc[train_indices]['label'].values\n",
    "\n",
    "    test_text = final_source.iloc[test_indices]['tweet'].values\n",
    "    test_y = final_source.iloc[test_indices]['label'].values\n",
    "\n",
    "    pipeline.fit(train_text, train_y)\n",
    "    predictions = pipeline.predict(test_text)\n",
    "\n",
    "    confusion += confusion_matrix(test_y, predictions)\n",
    "    score = f1_score(test_y, predictions, average='micro')\n",
    "    scores.append(score)\n",
    "\n",
    "print('Total tweets classified:', len(final_source))\n",
    "print('Score:', sum(scores)/len(final_source))\n",
    "print('Confusion matrix:')\n",
    "print(confusion)"
   ]
  },
  {
   "cell_type": "code",
   "execution_count": 50,
   "metadata": {},
   "outputs": [
    {
     "data": {
      "text/plain": [
       "['be',\n",
       " 'really',\n",
       " 'aggressive',\n",
       " 'not',\n",
       " 'to',\n",
       " 'blast',\n",
       " 'obnoxious',\n",
       " '\"',\n",
       " 'entertainment',\n",
       " '\"',\n",
       " 'in',\n",
       " 'guest',\n",
       " \"'\",\n",
       " 'face',\n",
       " '&',\n",
       " 'have',\n",
       " 'little',\n",
       " 'recourse',\n",
       " 'be really',\n",
       " 'really aggressive',\n",
       " 'aggressive not',\n",
       " 'not to',\n",
       " 'to blast',\n",
       " 'blast obnoxious',\n",
       " 'obnoxious \"',\n",
       " '\" entertainment',\n",
       " 'entertainment \"',\n",
       " '\" in',\n",
       " 'in guest',\n",
       " \"guest '\",\n",
       " \"' face\",\n",
       " 'face &',\n",
       " '& have',\n",
       " 'have little',\n",
       " 'little recourse']"
      ]
     },
     "execution_count": 50,
     "metadata": {},
     "output_type": "execute_result"
    }
   ],
   "source": [
    "unibigram_vectorizer = CountVectorizer(ngram_range=(1, 2), tokenizer=my_preprocessing)\n",
    "analyze = unibigram_vectorizer.build_analyzer()\n",
    "analyze('@VirginAmerica it\\'s really aggressive not to blast obnoxious \"entertainment\" in your guests\\' faces &amp; they have little recourse')"
   ]
  },
  {
   "cell_type": "code",
   "execution_count": null,
   "metadata": {},
   "outputs": [],
   "source": []
  }
 ],
 "metadata": {
  "kernelspec": {
   "display_name": "Python 3",
   "language": "python",
   "name": "python3"
  },
  "language_info": {
   "codemirror_mode": {
    "name": "ipython",
    "version": 3
   },
   "file_extension": ".py",
   "mimetype": "text/x-python",
   "name": "python",
   "nbconvert_exporter": "python",
   "pygments_lexer": "ipython3",
   "version": "3.6.3"
  }
 },
 "nbformat": 4,
 "nbformat_minor": 2
}
